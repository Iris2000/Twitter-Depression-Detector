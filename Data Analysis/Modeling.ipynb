{
 "cells": [
  {
   "cell_type": "code",
   "execution_count": 76,
   "metadata": {},
   "outputs": [],
   "source": [
    "# import packages\n",
    "import pandas as pd\n",
    "import numpy as np\n",
    "import nltk\n",
    "import sklearn\n",
    "import matplotlib.pyplot as plt\n",
    "import seaborn as sns\n",
    "import sklearn.metrics as metrics\n",
    "import gensim\n",
    "import gensim.downloader as api\n",
    "import joblib\n",
    "from numpy import mean\n",
    "from numpy import std\n",
    "from nltk.corpus import stopwords\n",
    "from nltk.tokenize import word_tokenize\n",
    "from sklearn.model_selection import train_test_split\n",
    "from sklearn.pipeline import Pipeline\n",
    "from sklearn.feature_extraction.text import TfidfVectorizer\n",
    "from sklearn.linear_model import LogisticRegression\n",
    "from sklearn.model_selection import KFold\n",
    "from sklearn.model_selection import cross_val_score, cross_val_predict\n",
    "from sklearn.metrics import accuracy_score, classification_report\n",
    "from sklearn.compose import ColumnTransformer\n",
    "from sklearn.svm import LinearSVC\n",
    "from sklearn.ensemble import RandomForestClassifier\n",
    "from sklearn.naive_bayes import MultinomialNB # multinomial suitable for discrete data and more powerful than bernoulli\n",
    "from sklearn.preprocessing import Normalizer\n",
    "from sentence_transformers import SentenceTransformer\n",
    "from keras.models import Sequential, model_from_json\n",
    "from keras.layers import Dense, Dropout\n",
    "from tensorflow.keras.optimizers import Adam\n",
    "from keras.callbacks import EarlyStopping, ModelCheckpoint\n",
    "from joblib import dump, load"
   ]
  },
  {
   "cell_type": "code",
   "execution_count": 3,
   "metadata": {},
   "outputs": [
    {
     "data": {
      "text/html": [
       "<div>\n",
       "<style scoped>\n",
       "    .dataframe tbody tr th:only-of-type {\n",
       "        vertical-align: middle;\n",
       "    }\n",
       "\n",
       "    .dataframe tbody tr th {\n",
       "        vertical-align: top;\n",
       "    }\n",
       "\n",
       "    .dataframe thead th {\n",
       "        text-align: right;\n",
       "    }\n",
       "</style>\n",
       "<table border=\"1\" class=\"dataframe\">\n",
       "  <thead>\n",
       "    <tr style=\"text-align: right;\">\n",
       "      <th></th>\n",
       "      <th>username</th>\n",
       "      <th>datetime</th>\n",
       "      <th>tweet</th>\n",
       "      <th>cleaned_tweet</th>\n",
       "      <th>target</th>\n",
       "      <th>tweet_compound</th>\n",
       "      <th>fear</th>\n",
       "      <th>anger</th>\n",
       "      <th>anticipation</th>\n",
       "      <th>trust</th>\n",
       "      <th>...</th>\n",
       "      <th>primarysupport</th>\n",
       "      <th>troubleconcentrate</th>\n",
       "      <th>worthlessness/guilt</th>\n",
       "      <th>housing</th>\n",
       "      <th>disturbedsleep</th>\n",
       "      <th>occupational</th>\n",
       "      <th>fatigue/lossenergy</th>\n",
       "      <th>weight/appetite</th>\n",
       "      <th>agitation/retardation</th>\n",
       "      <th>topic</th>\n",
       "    </tr>\n",
       "  </thead>\n",
       "  <tbody>\n",
       "    <tr>\n",
       "      <th>0</th>\n",
       "      <td>robertevans97</td>\n",
       "      <td>16/12/21 14:27:14</td>\n",
       "      <td>@arielhelwani @DustinPoirier @NateDiaz209 Big ...</td>\n",
       "      <td>big fight dustin want prove point nate</td>\n",
       "      <td>normal</td>\n",
       "      <td>-0.3182</td>\n",
       "      <td>0.25</td>\n",
       "      <td>0.25</td>\n",
       "      <td>0.000000</td>\n",
       "      <td>0.000000</td>\n",
       "      <td>...</td>\n",
       "      <td>0.0</td>\n",
       "      <td>0.0</td>\n",
       "      <td>0.0</td>\n",
       "      <td>0.0</td>\n",
       "      <td>0.0</td>\n",
       "      <td>0.0</td>\n",
       "      <td>0.0</td>\n",
       "      <td>0.0</td>\n",
       "      <td>0.0</td>\n",
       "      <td>1</td>\n",
       "    </tr>\n",
       "    <tr>\n",
       "      <th>1</th>\n",
       "      <td>flintmorris</td>\n",
       "      <td>16/12/21 14:27:14</td>\n",
       "      <td>@ItsRyanGonzales @100Thieves @RabidDoh @thundo...</td>\n",
       "      <td>they choose one best naruto opening song big</td>\n",
       "      <td>normal</td>\n",
       "      <td>0.6369</td>\n",
       "      <td>0.00</td>\n",
       "      <td>0.00</td>\n",
       "      <td>0.000000</td>\n",
       "      <td>0.000000</td>\n",
       "      <td>...</td>\n",
       "      <td>0.0</td>\n",
       "      <td>0.0</td>\n",
       "      <td>0.0</td>\n",
       "      <td>0.0</td>\n",
       "      <td>0.0</td>\n",
       "      <td>0.0</td>\n",
       "      <td>0.0</td>\n",
       "      <td>0.0</td>\n",
       "      <td>0.0</td>\n",
       "      <td>4</td>\n",
       "    </tr>\n",
       "    <tr>\n",
       "      <th>2</th>\n",
       "      <td>chardinite</td>\n",
       "      <td>16/12/21 14:27:14</td>\n",
       "      <td>@Tinkzorg Gen Z can't wield the mandate of hea...</td>\n",
       "      <td>gen z not wield mandate heaven confirm</td>\n",
       "      <td>normal</td>\n",
       "      <td>0.5106</td>\n",
       "      <td>0.00</td>\n",
       "      <td>0.00</td>\n",
       "      <td>0.000000</td>\n",
       "      <td>0.000000</td>\n",
       "      <td>...</td>\n",
       "      <td>0.0</td>\n",
       "      <td>0.0</td>\n",
       "      <td>0.0</td>\n",
       "      <td>0.0</td>\n",
       "      <td>0.0</td>\n",
       "      <td>0.0</td>\n",
       "      <td>0.0</td>\n",
       "      <td>0.0</td>\n",
       "      <td>0.0</td>\n",
       "      <td>5</td>\n",
       "    </tr>\n",
       "    <tr>\n",
       "      <th>3</th>\n",
       "      <td>ghobubo</td>\n",
       "      <td>16/12/21 14:27:14</td>\n",
       "      <td>@JortsTheCat has his own account and 20K follo...</td>\n",
       "      <td>his account follower sweet potato</td>\n",
       "      <td>normal</td>\n",
       "      <td>0.4588</td>\n",
       "      <td>0.00</td>\n",
       "      <td>0.00</td>\n",
       "      <td>0.142857</td>\n",
       "      <td>0.428571</td>\n",
       "      <td>...</td>\n",
       "      <td>0.0</td>\n",
       "      <td>0.0</td>\n",
       "      <td>0.0</td>\n",
       "      <td>0.0</td>\n",
       "      <td>0.0</td>\n",
       "      <td>0.0</td>\n",
       "      <td>0.0</td>\n",
       "      <td>0.0</td>\n",
       "      <td>0.0</td>\n",
       "      <td>7</td>\n",
       "    </tr>\n",
       "    <tr>\n",
       "      <th>4</th>\n",
       "      <td>mdarahimkhan2</td>\n",
       "      <td>16/12/21 14:27:14</td>\n",
       "      <td>@BitKeepOS @NEARProtocol This is a really grea...</td>\n",
       "      <td>really great excellent project thank you oppor...</td>\n",
       "      <td>normal</td>\n",
       "      <td>0.9604</td>\n",
       "      <td>0.00</td>\n",
       "      <td>0.00</td>\n",
       "      <td>0.250000</td>\n",
       "      <td>0.187500</td>\n",
       "      <td>...</td>\n",
       "      <td>0.0</td>\n",
       "      <td>0.0</td>\n",
       "      <td>0.0</td>\n",
       "      <td>0.0</td>\n",
       "      <td>0.0</td>\n",
       "      <td>0.0</td>\n",
       "      <td>0.0</td>\n",
       "      <td>0.0</td>\n",
       "      <td>0.0</td>\n",
       "      <td>3</td>\n",
       "    </tr>\n",
       "  </tbody>\n",
       "</table>\n",
       "<p>5 rows × 30 columns</p>\n",
       "</div>"
      ],
      "text/plain": [
       "        username           datetime  \\\n",
       "0  robertevans97  16/12/21 14:27:14   \n",
       "1    flintmorris  16/12/21 14:27:14   \n",
       "2     chardinite  16/12/21 14:27:14   \n",
       "3        ghobubo  16/12/21 14:27:14   \n",
       "4  mdarahimkhan2  16/12/21 14:27:14   \n",
       "\n",
       "                                               tweet  \\\n",
       "0  @arielhelwani @DustinPoirier @NateDiaz209 Big ...   \n",
       "1  @ItsRyanGonzales @100Thieves @RabidDoh @thundo...   \n",
       "2  @Tinkzorg Gen Z can't wield the mandate of hea...   \n",
       "3  @JortsTheCat has his own account and 20K follo...   \n",
       "4  @BitKeepOS @NEARProtocol This is a really grea...   \n",
       "\n",
       "                                       cleaned_tweet  target  tweet_compound  \\\n",
       "0             big fight dustin want prove point nate  normal         -0.3182   \n",
       "1       they choose one best naruto opening song big  normal          0.6369   \n",
       "2             gen z not wield mandate heaven confirm  normal          0.5106   \n",
       "3                  his account follower sweet potato  normal          0.4588   \n",
       "4  really great excellent project thank you oppor...  normal          0.9604   \n",
       "\n",
       "   fear  anger  anticipation     trust  ...  primarysupport  \\\n",
       "0  0.25   0.25      0.000000  0.000000  ...             0.0   \n",
       "1  0.00   0.00      0.000000  0.000000  ...             0.0   \n",
       "2  0.00   0.00      0.000000  0.000000  ...             0.0   \n",
       "3  0.00   0.00      0.142857  0.428571  ...             0.0   \n",
       "4  0.00   0.00      0.250000  0.187500  ...             0.0   \n",
       "\n",
       "   troubleconcentrate  worthlessness/guilt  housing  disturbedsleep  \\\n",
       "0                 0.0                  0.0      0.0             0.0   \n",
       "1                 0.0                  0.0      0.0             0.0   \n",
       "2                 0.0                  0.0      0.0             0.0   \n",
       "3                 0.0                  0.0      0.0             0.0   \n",
       "4                 0.0                  0.0      0.0             0.0   \n",
       "\n",
       "   occupational  fatigue/lossenergy  weight/appetite  agitation/retardation  \\\n",
       "0           0.0                 0.0              0.0                    0.0   \n",
       "1           0.0                 0.0              0.0                    0.0   \n",
       "2           0.0                 0.0              0.0                    0.0   \n",
       "3           0.0                 0.0              0.0                    0.0   \n",
       "4           0.0                 0.0              0.0                    0.0   \n",
       "\n",
       "   topic  \n",
       "0      1  \n",
       "1      4  \n",
       "2      5  \n",
       "3      7  \n",
       "4      3  \n",
       "\n",
       "[5 rows x 30 columns]"
      ]
     },
     "execution_count": 3,
     "metadata": {},
     "output_type": "execute_result"
    }
   ],
   "source": [
    "# import depression detection csv\n",
    "df = pd.read_csv (r'C://Users//lvlip//Documents//BCSI Sem 6//FYP 4202//CSV//depression_detection.csv', engine='python')\n",
    "df.head()"
   ]
  },
  {
   "cell_type": "code",
   "execution_count": 4,
   "metadata": {},
   "outputs": [
    {
     "data": {
      "text/plain": [
       "(10000, 30)"
      ]
     },
     "execution_count": 4,
     "metadata": {},
     "output_type": "execute_result"
    }
   ],
   "source": [
    "# select balance samples from each target group and shuffle the data\n",
    "np.random.seed(1000)\n",
    "\n",
    "normal_df = df[df['target']=='normal'].sample(5000)\n",
    "depressed_df = df[df['target']=='depressed'].sample(5000)\n",
    "\n",
    "df = pd.concat([normal_df, depressed_df]).sample(frac=1)\n",
    "df = df.reset_index(drop=True)\n",
    "\n",
    "df.shape"
   ]
  },
  {
   "cell_type": "code",
   "execution_count": 5,
   "metadata": {},
   "outputs": [],
   "source": [
    "# extract x and y for train test split\n",
    "x = df[df.columns.difference(['username', 'datetime', 'tweet', 'target'])]\n",
    "y = df.target"
   ]
  },
  {
   "cell_type": "code",
   "execution_count": 6,
   "metadata": {},
   "outputs": [],
   "source": [
    "# train test split\n",
    "x_train, x_test, y_train, y_test = train_test_split(x, y, test_size=.2, random_state=1000)"
   ]
  },
  {
   "cell_type": "code",
   "execution_count": 7,
   "metadata": {},
   "outputs": [
    {
     "name": "stdout",
     "output_type": "stream",
     "text": [
      "Train set has total 8000 entries with 50.18% depressed, 49.83% normal\n",
      "Test set has total 2000 entries with 49.30% depressed, 50.70% normal\n"
     ]
    }
   ],
   "source": [
    "print(\"Train set has total {0} entries with {1:.2f}% depressed,\\\n",
    "      {2:.2f}% normal\".format(len(x_train), (len(x_train[y_train=='depressed']) / (len(x_train)*1.))*100,\n",
    "                              (len(x_train[y_train=='normal']) / (len(x_train)*1.))*100))\n",
    "\n",
    "print(\"Test set has total {0} entries with {1:.2f}% depressed,\\\n",
    "        {2:.2f}% normal\".format(len(x_test), (len(x_test[y_test=='depressed']) / (len(x_test)*1.))*100,\n",
    "                                (len(x_test[y_test=='normal']) / (len(x_test)*1.))*100))"
   ]
  },
  {
   "cell_type": "markdown",
   "metadata": {},
   "source": [
    "# Logistic Regression + TF-IDF + Trigram"
   ]
  },
  {
   "cell_type": "code",
   "execution_count": 8,
   "metadata": {},
   "outputs": [],
   "source": [
    "# model with 'cleaned_text' only - logistic regression + tf-dif + trigram\n",
    "\n",
    "# initialize vectorizer\n",
    "tfidf = TfidfVectorizer(stop_words=None, ngram_range=(1, 3), max_features=150000)\n",
    "\n",
    "# transform tf-idf\n",
    "x_train_text = tfidf.fit_transform(x_train['cleaned_tweet'])\n",
    "x_test_text = tfidf.transform(x_test['cleaned_tweet'])\n",
    "\n",
    "# prepare the cross-validation procedure\n",
    "cv = KFold(n_splits=10, random_state=1, shuffle=True)\n",
    "\n",
    "np.random.seed(1000)\n",
    "\n",
    "# fit the model\n",
    "lr = LogisticRegression().fit(x_train_text, y_train)"
   ]
  },
  {
   "cell_type": "code",
   "execution_count": 12,
   "metadata": {},
   "outputs": [
    {
     "name": "stdout",
     "output_type": "stream",
     "text": [
      "training accuracy: 0.881 (0.015)\n",
      "testing accuracy: 0.871 (0.023)\n"
     ]
    }
   ],
   "source": [
    "# evaluate training model\n",
    "training_score = cross_val_score(lr, x_train_text, y_train, scoring='accuracy', cv=cv)\n",
    "\n",
    "# training report performance\n",
    "print('training accuracy: %.3f (%.3f)' % (mean(training_score), std(training_score)))\n",
    "\n",
    "# evaluate testing model\n",
    "testing_score = cross_val_score(lr, x_test_text, y_test, scoring='accuracy', cv=cv)\n",
    "\n",
    "# testing report performance\n",
    "print('testing accuracy: %.3f (%.3f)' % (mean(testing_score), std(testing_score)))"
   ]
  },
  {
   "cell_type": "code",
   "execution_count": 14,
   "metadata": {},
   "outputs": [
    {
     "data": {
      "image/png": "[encoded data removed]",
      "text/plain": [
       "<Figure size 432x288 with 1 Axes>"
      ]
     },
     "metadata": {
      "needs_background": "light"
     },
     "output_type": "display_data"
    }
   ],
   "source": [
    "# plot confusion matrix\n",
    "y_pred = cross_val_predict(lr, x_test_text, y_test, cv=cv)\n",
    "cm = metrics.confusion_matrix(y_test, y_pred)\n",
    "fig, ax = plt.subplots()\n",
    "sns.heatmap(cm, annot=True, fmt='d', ax=ax, cmap=plt.cm.Blues, \n",
    "            cbar=False)\n",
    "ax.set(xlabel='Pred', ylabel='True', xticklabels=['depressed', 'normal'], \n",
    "       yticklabels=['depressed', 'normal'], title=\"Confusion matrix\")\n",
    "plt.yticks(rotation=0)\n",
    "plt.show()"
   ]
  },
  {
   "cell_type": "code",
   "execution_count": 15,
   "metadata": {},
   "outputs": [],
   "source": [
    "# model with other linguistic features - logistic regression + tf-dif + trigram\n",
    "\n",
    "# initialize model and vectorizer\n",
    "tfidf = TfidfVectorizer(stop_words=None, ngram_range=(1, 3), max_features=150000)\n",
    "lr = LogisticRegression(max_iter=300)\n",
    "\n",
    "# construct the column transfomer\n",
    "column_transformer = ColumnTransformer(\n",
    "    [('tfidf', tfidf, 'cleaned_tweet')],\n",
    "    remainder='passthrough')\n",
    "\n",
    "# transform tf-idf\n",
    "column_transformer.fit_transform(x_train)\n",
    "column_transformer.transform(x_test)\n",
    "\n",
    "# fit the model\n",
    "pipeline = Pipeline([\n",
    "                  ('tfidf', column_transformer),\n",
    "                  ('classifier', lr)\n",
    "                ])\n",
    "\n",
    "# prepare the cross-validation procedure\n",
    "cv = KFold(n_splits=10, random_state=1, shuffle=True)\n",
    "\n",
    "np.random.seed(1000)\n",
    "\n",
    "pipeline_fit = pipeline.fit(x_train, y_train)"
   ]
  },
  {
   "cell_type": "code",
   "execution_count": 16,
   "metadata": {},
   "outputs": [
    {
     "name": "stdout",
     "output_type": "stream",
     "text": [
      "training accuracy: 0.905 (0.013)\n",
      "testing accuracy: 0.887 (0.019)\n"
     ]
    }
   ],
   "source": [
    "# evaluate training model\n",
    "training_score = cross_val_score(pipeline_fit, x_train, y_train, scoring='accuracy', cv=cv)\n",
    "\n",
    "# training report performance\n",
    "print('training accuracy: %.3f (%.3f)' % (mean(training_score), std(training_score)))\n",
    "\n",
    "# evaluate testing model\n",
    "testing_score = cross_val_score(pipeline_fit, x_test, y_test, scoring='accuracy', cv=cv)\n",
    "\n",
    "# testing report performance\n",
    "print('testing accuracy: %.3f (%.3f)' % (mean(testing_score), std(testing_score)))"
   ]
  },
  {
   "cell_type": "code",
   "execution_count": 18,
   "metadata": {},
   "outputs": [
    {
     "data": {
      "image/png": "[encoded data removed]",
      "text/plain": [
       "<Figure size 432x288 with 1 Axes>"
      ]
     },
     "metadata": {
      "needs_background": "light"
     },
     "output_type": "display_data"
    }
   ],
   "source": [
    "# plot confusion matrix\n",
    "y_pred = cross_val_predict(pipeline_fit, x_test, y_test, cv=cv)\n",
    "cm = metrics.confusion_matrix(y_test, y_pred)\n",
    "fig, ax = plt.subplots()\n",
    "sns.heatmap(cm, annot=True, fmt='d', ax=ax, cmap=plt.cm.Blues, \n",
    "            cbar=False)\n",
    "ax.set(xlabel='Pred', ylabel='True', xticklabels=['depressed', 'normal'], \n",
    "       yticklabels=['depressed', 'normal'], title=\"Confusion matrix\")\n",
    "plt.yticks(rotation=0)\n",
    "plt.show()"
   ]
  },
  {
   "cell_type": "markdown",
   "metadata": {},
   "source": [
    "# Compare Classifier - LR & RF & SVM"
   ]
  },
  {
   "cell_type": "code",
   "execution_count": 19,
   "metadata": {},
   "outputs": [
    {
     "name": "stdout",
     "output_type": "stream",
     "text": [
      "LogisticRegression(max_iter=300)\n",
      "training accuracy: 0.905 (0.013)\n",
      "testing accuracy: 0.887 (0.019)\n",
      "              precision    recall  f1-score   support\n",
      "\n",
      "   depressed       0.86      0.92      0.89       986\n",
      "      normal       0.91      0.86      0.89      1014\n",
      "\n",
      "    accuracy                           0.89      2000\n",
      "   macro avg       0.89      0.89      0.89      2000\n",
      "weighted avg       0.89      0.89      0.89      2000\n",
      "\n",
      "LinearSVC(max_iter=2500)\n",
      "training accuracy: 0.915 (0.012)\n",
      "testing accuracy: 0.898 (0.015)\n",
      "              precision    recall  f1-score   support\n",
      "\n",
      "   depressed       0.87      0.94      0.90       986\n",
      "      normal       0.93      0.86      0.90      1014\n",
      "\n",
      "    accuracy                           0.90      2000\n",
      "   macro avg       0.90      0.90      0.90      2000\n",
      "weighted avg       0.90      0.90      0.90      2000\n",
      "\n",
      "RandomForestClassifier()\n",
      "training accuracy: 0.890 (0.016)\n",
      "testing accuracy: 0.888 (0.026)\n",
      "              precision    recall  f1-score   support\n",
      "\n",
      "   depressed       0.84      0.92      0.88       986\n",
      "      normal       0.92      0.83      0.87      1014\n",
      "\n",
      "    accuracy                           0.88      2000\n",
      "   macro avg       0.88      0.88      0.88      2000\n",
      "weighted avg       0.88      0.88      0.88      2000\n",
      "\n"
     ]
    }
   ],
   "source": [
    "# make comparison with LR, RF, and SVM\n",
    "names = ['Logistic Regression', 'Linear SVC (SVM)', 'Random Forest']\n",
    "classifiers = [LogisticRegression(max_iter = 300), LinearSVC(max_iter = 2500), RandomForestClassifier()]\n",
    "zipped_clf = zip(names, classifiers)\n",
    "\n",
    "for n,c in zipped_clf:\n",
    "\n",
    "    pipeline = Pipeline([\n",
    "        ('tfidf', column_transformer),\n",
    "        ('classifier', c)\n",
    "    ])\n",
    "\n",
    "    cv = KFold(n_splits=10, random_state=1, shuffle=True)\n",
    "    \n",
    "    np.random.seed(1000)\n",
    "  \n",
    "    pipeline_fit = pipeline.fit(x_train, y_train)\n",
    "\n",
    "    print(c)\n",
    "\n",
    "    training_score = cross_val_score(pipeline_fit, x_train, y_train, scoring='accuracy', cv=cv)\n",
    "    print('training accuracy: %.3f (%.3f)' % (mean(training_score), std(training_score)))\n",
    "\n",
    "    testing_score = cross_val_score(pipeline_fit, x_test, y_test, scoring='accuracy', cv=cv)\n",
    "    print('testing accuracy: %.3f (%.3f)' % (mean(testing_score), std(testing_score)))\n",
    "\n",
    "    # make prediction\n",
    "    y_pred = cross_val_predict(pipeline_fit, x_test, y_test, cv=cv)\n",
    "    print(classification_report(y_test, y_pred)) # SVM the highest"
   ]
  },
  {
   "cell_type": "markdown",
   "metadata": {},
   "source": [
    "# Pretrained Google News Word2Vec & SVM"
   ]
  },
  {
   "cell_type": "code",
   "execution_count": 20,
   "metadata": {},
   "outputs": [],
   "source": [
    "googlenews = api.load(\"word2vec-google-news-300\")"
   ]
  },
  {
   "cell_type": "code",
   "execution_count": 21,
   "metadata": {},
   "outputs": [],
   "source": [
    "# tokenize tweets\n",
    "x_train_tokens = [word_tokenize(x) for x in x_train['cleaned_tweet']]\n",
    "x_test_tokens = [word_tokenize(x) for x in x_test['cleaned_tweet']]"
   ]
  },
  {
   "cell_type": "code",
   "execution_count": 23,
   "metadata": {},
   "outputs": [],
   "source": [
    "# to average all of the word vectors for a set of words\n",
    "def make_feature_vec(words, model, num_features):\n",
    "  \n",
    "    count = 0\n",
    "\n",
    "    vector = np.zeros((num_features, ), dtype = 'float32')  \n",
    "\n",
    "    index2key_set = set(model.wv.index_to_key) # list that contains words in the model's vocabulary\n",
    "\n",
    "    for word in words:\n",
    "        if word in index2key_set: \n",
    "            count += 1\n",
    "            vector = np.add(vector, model.wv[word])\n",
    "\n",
    "    vector = np.divide(vector, count)\n",
    "    return vector\n",
    "\n",
    "# to calculate the average feature vector for each tweet and return a 2D numpy array \n",
    "def avg_feature_vecs(tweets, model, num_features):\n",
    "\n",
    "    count = 0 \n",
    "  \n",
    "    vector = np.zeros((len(tweets), num_features), dtype = 'float32') # initialization for speed\n",
    "\n",
    "    for tweet in tweets:\n",
    "        vector[count] = make_feature_vec(tweet, model, num_features)\n",
    "        count += 1\n",
    "    return vector"
   ]
  },
  {
   "cell_type": "code",
   "execution_count": 24,
   "metadata": {},
   "outputs": [],
   "source": [
    "# train w2v model\n",
    "w2v_model = gensim.models.word2vec.Word2Vec(x_train_tokens, vector_size=300,   \n",
    "            window=8, min_count=1, sg=1, epochs=30)"
   ]
  },
  {
   "cell_type": "code",
   "execution_count": 25,
   "metadata": {},
   "outputs": [
    {
     "name": "stderr",
     "output_type": "stream",
     "text": [
      "<ipython-input-23-9a64b506cbfa>:16: RuntimeWarning: invalid value encountered in true_divide\n",
      "  vector = np.divide(vector, count)\n"
     ]
    }
   ],
   "source": [
    "# calculate average feature vectors for all tweets\n",
    "trainVec = avg_feature_vecs(x_train_tokens, w2v_model, 300)\n",
    "testVec = avg_feature_vecs(x_test_tokens, w2v_model, 300)"
   ]
  },
  {
   "cell_type": "code",
   "execution_count": 26,
   "metadata": {},
   "outputs": [
    {
     "name": "stdout",
     "output_type": "stream",
     "text": [
      "Removing 1 instances from test set.\n"
     ]
    }
   ],
   "source": [
    "# remove instances in test set that could not be represented as feature vectors\n",
    "nan_indices = list({x for x, y in np.argwhere(np.isnan(testVec))})\n",
    "\n",
    "# concat test set to remove empty feature vectors\n",
    "test_df = pd.concat([x_test, y_test], axis = 1)\n",
    "\n",
    "if len(nan_indices) > 0:\n",
    "    print('Removing {:d} instances from test set.'.format(len(nan_indices)))\n",
    "    testVec = np.delete(testVec, nan_indices, axis = 0)\n",
    "    test_df.drop(test_df.iloc[nan_indices, :].index, axis = 0, inplace = True)\n",
    "    assert testVec.shape[0] == len(test_df)"
   ]
  },
  {
   "cell_type": "code",
   "execution_count": 27,
   "metadata": {},
   "outputs": [
    {
     "name": "stdout",
     "output_type": "stream",
     "text": [
      "training accuracy: 0.928 (0.012)\n",
      "testing accuracy: 0.902 (0.011)\n",
      "              precision    recall  f1-score   support\n",
      "\n",
      "   depressed       0.90      0.91      0.90       986\n",
      "      normal       0.91      0.90      0.90      1013\n",
      "\n",
      "    accuracy                           0.90      1999\n",
      "   macro avg       0.90      0.90      0.90      1999\n",
      "weighted avg       0.90      0.90      0.90      1999\n",
      "\n"
     ]
    }
   ],
   "source": [
    "# SVM with Word2Vec\n",
    "np.random.seed(1000)\n",
    "\n",
    "cv = KFold(n_splits=10, random_state=1, shuffle=True)\n",
    "\n",
    "svm = LinearSVC(max_iter = 2500)\n",
    "svm = svm.fit(trainVec, y_train)\n",
    "\n",
    "training_score = cross_val_score(svm, trainVec, y_train, scoring='accuracy', cv=cv)\n",
    "print('training accuracy: %.3f (%.3f)' % (mean(training_score), std(training_score)))\n",
    "\n",
    "testing_score = cross_val_score(svm, testVec, test_df['target'], scoring='accuracy', cv=cv)\n",
    "print('testing accuracy: %.3f (%.3f)' % (mean(testing_score), std(testing_score)))\n",
    "\n",
    "result = cross_val_predict(svm, testVec, test_df['target'], cv=cv)\n",
    "print(classification_report(test_df['target'], result)) "
   ]
  },
  {
   "cell_type": "code",
   "execution_count": 28,
   "metadata": {},
   "outputs": [
    {
     "name": "stdout",
     "output_type": "stream",
     "text": [
      "training accuracy: 0.931 (0.014)\n",
      "testing accuracy: 0.904 (0.019)\n",
      "              precision    recall  f1-score   support\n",
      "\n",
      "   depressed       0.90      0.91      0.90       986\n",
      "      normal       0.91      0.90      0.90      1013\n",
      "\n",
      "    accuracy                           0.90      1999\n",
      "   macro avg       0.90      0.90      0.90      1999\n",
      "weighted avg       0.90      0.90      0.90      1999\n",
      "\n"
     ]
    }
   ],
   "source": [
    "# SVM with Word2Vec + other features\n",
    "c = LinearSVC(max_iter = 6000)\n",
    "\n",
    "x_train3 = x_train[x_train.columns.difference(['cleaned_tweet'])]\n",
    "x_train3 = np.hstack((trainVec, x_train3))\n",
    "x_test3 = test_df[test_df.columns.difference(['cleaned_tweet', 'target'])]\n",
    "x_test3 = np.hstack((testVec, x_test3))\n",
    "\n",
    "np.random.seed(1000)\n",
    "\n",
    "# fit the model\n",
    "svm = c.fit(x_train3, y_train)\n",
    "\n",
    "training_score = cross_val_score(svm, x_train3, y_train, scoring='accuracy', cv=cv)\n",
    "print('training accuracy: %.3f (%.3f)' % (mean(training_score), std(training_score)))\n",
    "\n",
    "testing_score = cross_val_score(svm, x_test3, test_df['target'], scoring='accuracy', cv=cv)\n",
    "print('testing accuracy: %.3f (%.3f)' % (mean(testing_score), std(testing_score)))\n",
    "\n",
    "# make prediction\n",
    "result = cross_val_predict(svm, x_test3, test_df['target'], cv=cv)\n",
    "print(classification_report(test_df['target'], result)) "
   ]
  },
  {
   "cell_type": "markdown",
   "metadata": {},
   "source": [
    "# BERT & Neural Network"
   ]
  },
  {
   "cell_type": "code",
   "execution_count": 29,
   "metadata": {},
   "outputs": [],
   "source": [
    "# build bert model with distilbert - ligther version of bert\n",
    "bert_model = SentenceTransformer('distilbert-base-nli-mean-tokens')"
   ]
  },
  {
   "cell_type": "code",
   "execution_count": 30,
   "metadata": {},
   "outputs": [
    {
     "data": {
      "application/vnd.jupyter.widget-view+json": {
       "model_id": "6040829d12d34eb7987c83988dd13af8",
       "version_major": 2,
       "version_minor": 0
      },
      "text/plain": [
       "HBox(children=(HTML(value='Batches'), FloatProgress(value=0.0, max=313.0), HTML(value='')))"
      ]
     },
     "metadata": {},
     "output_type": "display_data"
    },
    {
     "name": "stdout",
     "output_type": "stream",
     "text": [
      "\n",
      "(10000, 768)\n"
     ]
    }
   ],
   "source": [
    "# create embeddings with bert - with 'cleaned_tweet' only\n",
    "embeddings = bert_model.encode(x['cleaned_tweet'], show_progress_bar=True)\n",
    "print (embeddings.shape)"
   ]
  },
  {
   "cell_type": "code",
   "execution_count": 31,
   "metadata": {},
   "outputs": [],
   "source": [
    "# combine embeddings and other features\n",
    "embeddings2 = np.hstack((embeddings, x[x.columns.difference(['cleaned_tweet'])]))"
   ]
  },
  {
   "cell_type": "code",
   "execution_count": 64,
   "metadata": {},
   "outputs": [
    {
     "name": "stdout",
     "output_type": "stream",
     "text": [
      "Training set shapes: (8000, 793) (8000,)\n",
      "Test set shapes: (2000, 793) (2000,)\n"
     ]
    }
   ],
   "source": [
    "# train test split with embeddings\n",
    "x_train, x_test, y_train, y_test = train_test_split(embeddings2, y, test_size=.2, random_state=1000)\n",
    "\n",
    "print (\"Training set shapes:\", x_train.shape, y_train.shape)\n",
    "print (\"Test set shapes:\", x_test.shape, y_test.shape)"
   ]
  },
  {
   "cell_type": "code",
   "execution_count": 33,
   "metadata": {},
   "outputs": [],
   "source": [
    "# replace target string with integer\n",
    "y_train3 = y_train.replace(['normal', 'depressed'], [0, 1]) \n",
    "y_test3 = y_test.replace(['normal', 'depressed'], [0, 1]) "
   ]
  },
  {
   "cell_type": "code",
   "execution_count": 34,
   "metadata": {},
   "outputs": [],
   "source": [
    "# reshape to 3 dimension to fit with neural network\n",
    "x_train = x_train.reshape(8000, 793, 1)\n",
    "x_test = x_test.reshape(2000, 793, 1)"
   ]
  },
  {
   "cell_type": "code",
   "execution_count": null,
   "metadata": {},
   "outputs": [],
   "source": [
    "# define early stopping and model checkpoint\n",
    "#early_stop = EarlyStopping(monitor='val_loss', patience=5)\n",
    "mcp_save = ModelCheckpoint('neural_network.hdf5', save_best_only=True, monitor='val_accuracy', mode='max')"
   ]
  },
  {
   "cell_type": "code",
   "execution_count": 79,
   "metadata": {},
   "outputs": [
    {
     "name": "stdout",
     "output_type": "stream",
     "text": [
      "Epoch 1/20\n",
      "500/500 [==============================] - 9s 15ms/step - loss: 0.3174 - accuracy: 0.8643 - val_loss: 0.2114 - val_accuracy: 0.9130\n",
      "Epoch 2/20\n",
      "500/500 [==============================] - 2s 5ms/step - loss: 0.2410 - accuracy: 0.9071 - val_loss: 0.1927 - val_accuracy: 0.9180\n",
      "Epoch 3/20\n",
      "500/500 [==============================] - 3s 5ms/step - loss: 0.2250 - accuracy: 0.9140 - val_loss: 0.1966 - val_accuracy: 0.9155\n",
      "Epoch 4/20\n",
      "500/500 [==============================] - 2s 5ms/step - loss: 0.2094 - accuracy: 0.9194 - val_loss: 0.1881 - val_accuracy: 0.9210\n",
      "Epoch 5/20\n",
      "500/500 [==============================] - 3s 6ms/step - loss: 0.2026 - accuracy: 0.9225 - val_loss: 0.1931 - val_accuracy: 0.9290\n",
      "Epoch 6/20\n",
      "500/500 [==============================] - 3s 6ms/step - loss: 0.1991 - accuracy: 0.9246 - val_loss: 0.1925 - val_accuracy: 0.9220\n",
      "Epoch 7/20\n",
      "500/500 [==============================] - 3s 6ms/step - loss: 0.1913 - accuracy: 0.9260 - val_loss: 0.1975 - val_accuracy: 0.9225\n",
      "Epoch 8/20\n",
      "500/500 [==============================] - 3s 5ms/step - loss: 0.1838 - accuracy: 0.9287 - val_loss: 0.1845 - val_accuracy: 0.9315\n",
      "Epoch 9/20\n",
      "500/500 [==============================] - 3s 5ms/step - loss: 0.1813 - accuracy: 0.9293 - val_loss: 0.1867 - val_accuracy: 0.9315\n",
      "Epoch 10/20\n",
      "500/500 [==============================] - 3s 5ms/step - loss: 0.1782 - accuracy: 0.9340 - val_loss: 0.1885 - val_accuracy: 0.9315\n",
      "Epoch 11/20\n",
      "500/500 [==============================] - 3s 6ms/step - loss: 0.1694 - accuracy: 0.9342 - val_loss: 0.1872 - val_accuracy: 0.9350\n",
      "Epoch 12/20\n",
      "500/500 [==============================] - 3s 5ms/step - loss: 0.1691 - accuracy: 0.9349 - val_loss: 0.1902 - val_accuracy: 0.9320\n",
      "Epoch 13/20\n",
      "500/500 [==============================] - 3s 6ms/step - loss: 0.1653 - accuracy: 0.9369 - val_loss: 0.1823 - val_accuracy: 0.9315\n",
      "Epoch 14/20\n",
      "500/500 [==============================] - 2s 5ms/step - loss: 0.1594 - accuracy: 0.9392 - val_loss: 0.1945 - val_accuracy: 0.9300\n",
      "Epoch 15/20\n",
      "500/500 [==============================] - 3s 5ms/step - loss: 0.1577 - accuracy: 0.9390 - val_loss: 0.1840 - val_accuracy: 0.9360\n",
      "Epoch 16/20\n",
      "500/500 [==============================] - 3s 5ms/step - loss: 0.1547 - accuracy: 0.9408 - val_loss: 0.1856 - val_accuracy: 0.9355\n",
      "Epoch 17/20\n",
      "500/500 [==============================] - 3s 5ms/step - loss: 0.1528 - accuracy: 0.9396 - val_loss: 0.1875 - val_accuracy: 0.9305\n",
      "Epoch 18/20\n",
      "500/500 [==============================] - 3s 6ms/step - loss: 0.1475 - accuracy: 0.9433 - val_loss: 0.1967 - val_accuracy: 0.9265\n",
      "Epoch 19/20\n",
      "500/500 [==============================] - 3s 6ms/step - loss: 0.1448 - accuracy: 0.9446 - val_loss: 0.1979 - val_accuracy: 0.9345\n",
      "Epoch 20/20\n",
      "500/500 [==============================] - 3s 6ms/step - loss: 0.1398 - accuracy: 0.9454 - val_loss: 0.2053 - val_accuracy: 0.9320\n"
     ]
    }
   ],
   "source": [
    "# neural network classifier\n",
    "classifier = Sequential()\n",
    "classifier.add(Dense(64, activation='relu'))\n",
    "classifier.add(Dropout(0.4))\n",
    "classifier.add(Dense(32, activation='relu'))\n",
    "classifier.add(Dropout(0.4))\n",
    "classifier.add(Dense(1, activation='sigmoid'))\n",
    "classifier.compile(optimizer=Adam(learning_rate=0.001), loss='binary_crossentropy', metrics=['accuracy'])  \n",
    "history = classifier.fit (x_train, y_train3, epochs=20, batch_size=16, \n",
    "                      validation_data=(x_test, y_test3)) \n",
    "# embeddings only - highest 92.85, embeddings + other features - highest 93.90 and lower val loss"
   ]
  },
  {
   "cell_type": "code",
   "execution_count": 80,
   "metadata": {},
   "outputs": [
    {
     "name": "stdout",
     "output_type": "stream",
     "text": [
      "accuracy: 93.20%\n"
     ]
    }
   ],
   "source": [
    "# evaluate the model\n",
    "scores = classifier.evaluate(x_test, y_test3, verbose=0)\n",
    "print(\"%s: %.2f%%\" % (classifier.metrics_names[1], scores[1]*100))"
   ]
  },
  {
   "cell_type": "code",
   "execution_count": 48,
   "metadata": {},
   "outputs": [
    {
     "data": {
      "image/png": "[encoded data removed]",
      "text/plain": [
       "<Figure size 576x396 with 1 Axes>"
      ]
     },
     "metadata": {},
     "output_type": "display_data"
    }
   ],
   "source": [
    "# history for training loss and accuracy\n",
    "plt.style.use(\"seaborn\")\n",
    "plt.plot(history.history['accuracy'], label='train_acc')\n",
    "plt.plot(history.history['val_accuracy'], label='val_acc')\n",
    "plt.plot(history.history['loss'], label='train_loss')\n",
    "plt.plot(history.history['val_loss'], label='val_loss')\n",
    "plt.legend(loc='upper left')\n",
    "plt.title('Training Accuracy & Loss')\n",
    "plt.ylabel('accuracy/loss')\n",
    "plt.xlabel('epoch')\n",
    "plt.show()"
   ]
  },
  {
   "cell_type": "code",
   "execution_count": 85,
   "metadata": {},
   "outputs": [],
   "source": [
    "# serialize model to JSON\n",
    "model_json = classifier.to_json()\n",
    "with open('model.json', 'w') as json_file:\n",
    "    json_file.write(model_json)"
   ]
  },
  {
   "cell_type": "code",
   "execution_count": 84,
   "metadata": {},
   "outputs": [],
   "source": [
    "# load json and create model\n",
    "json_file = open('model.json', 'r')\n",
    "loaded_model_json = json_file.read()\n",
    "json_file.close()\n",
    "classifier = model_from_json(loaded_model_json)"
   ]
  },
  {
   "cell_type": "code",
   "execution_count": 81,
   "metadata": {},
   "outputs": [],
   "source": [
    "# loading the best model\n",
    "classifier.load_weights('neural_network.hdf5')"
   ]
  },
  {
   "cell_type": "code",
   "execution_count": 82,
   "metadata": {},
   "outputs": [
    {
     "name": "stdout",
     "output_type": "stream",
     "text": [
      "accuracy: 93.90%\n"
     ]
    }
   ],
   "source": [
    "# evaluate the model\n",
    "scores = classifier.evaluate(x_test, y_test3, verbose=0)\n",
    "print(\"%s: %.2f%%\" % (classifier.metrics_names[1], scores[1]*100))"
   ]
  }
 ],
 "metadata": {
  "kernelspec": {
   "display_name": "Python 3",
   "language": "python",
   "name": "python3"
  },
  "language_info": {
   "codemirror_mode": {
    "name": "ipython",
    "version": 3
   },
   "file_extension": ".py",
   "mimetype": "text/x-python",
   "name": "python",
   "nbconvert_exporter": "python",
   "pygments_lexer": "ipython3",
   "version": "3.8.5"
  }
 },
 "nbformat": 4,
 "nbformat_minor": 4
}
